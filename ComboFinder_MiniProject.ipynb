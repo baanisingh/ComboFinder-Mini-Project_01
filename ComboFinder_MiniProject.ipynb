{
  "nbformat": 4,
  "nbformat_minor": 0,
  "metadata": {
    "colab": {
      "provenance": [],
      "authorship_tag": "ABX9TyOT7tT8l8CFp1d6/S1QUGaR",
      "include_colab_link": true
    },
    "kernelspec": {
      "name": "python3",
      "display_name": "Python 3"
    },
    "language_info": {
      "name": "python"
    }
  },
  "cells": [
    {
      "cell_type": "markdown",
      "metadata": {
        "id": "view-in-github",
        "colab_type": "text"
      },
      "source": [
        "<a href=\"https://colab.research.google.com/github/baanisingh/ComboFinder-Mini-Project_01/blob/main/ComboFinder_MiniProject.ipynb\" target=\"_parent\"><img src=\"https://colab.research.google.com/assets/colab-badge.svg\" alt=\"Open In Colab\"/></a>"
      ]
    },
    {
      "cell_type": "markdown",
      "source": [
        "# **Problem Selection: ComboFinder**"
      ],
      "metadata": {
        "id": "k4EnFNGs1864"
      }
    },
    {
      "cell_type": "markdown",
      "source": [
        "Find all the list of products whose sum-of-price is between 290 and 310.\n",
        "\n",
        "ProductList = {p1:10, p2:15, p3:20, p4:25, p5:30, p6:35, p7:50}"
      ],
      "metadata": {
        "id": "UlDwaMez2dkF"
      }
    },
    {
      "cell_type": "markdown",
      "source": [],
      "metadata": {
        "id": "8pO-FrIk2Ogm"
      }
    },
    {
      "cell_type": "code",
      "execution_count": 6,
      "metadata": {
        "colab": {
          "base_uri": "https://localhost:8080/"
        },
        "id": "_rkWvzWN16aj",
        "outputId": "cb934ef1-c808-42a6-b25b-9866918a33d4"
      },
      "outputs": [
        {
          "output_type": "stream",
          "name": "stdout",
          "text": [
            "('p10', 'p14', 'p2', 'p3', 'p4', 'p6', 'p8', 'p9')\n",
            "('p1', 'p11', 'p13', 'p14', 'p4', 'p7', 'p8')\n",
            "('p11', 'p13', 'p14', 'p5', 'p6', 'p9')\n",
            "('p10', 'p12', 'p13', 'p14', 'p2', 'p4')\n",
            "('p10', 'p12', 'p13', 'p2', 'p6', 'p7')\n",
            "('p12', 'p13', 'p14', 'p7', 'p9')\n",
            "('p10', 'p12', 'p14', 'p4', 'p5', 'p9')\n",
            "('p1', 'p12', 'p14', 'p4', 'p5', 'p6', 'p7', 'p8')\n",
            "('p12', 'p14', 'p2', 'p3', 'p7', 'p8', 'p9')\n",
            "('p12', 'p2', 'p3', 'p4', 'p5', 'p7', 'p8', 'p9')\n",
            "('p11', 'p12', 'p13', 'p3', 'p5', 'p7')\n",
            "('p1', 'p12', 'p13', 'p14', 'p4', 'p5', 'p9')\n",
            "('p1', 'p14', 'p2', 'p3', 'p5', 'p6', 'p7', 'p8', 'p9')\n",
            "('p11', 'p14', 'p2', 'p3', 'p4', 'p5', 'p7', 'p8')\n",
            "('p1', 'p11', 'p12', 'p13', 'p3', 'p7')\n",
            "('p1', 'p11', 'p12', 'p2', 'p3', 'p5', 'p6', 'p8')\n",
            "('p10', 'p12', 'p14', 'p2', 'p5', 'p6', 'p7')\n",
            "('p1', 'p10', 'p13', 'p3', 'p6', 'p8', 'p9')\n",
            "('p1', 'p10', 'p13', 'p3', 'p4', 'p5', 'p6', 'p9')\n",
            "('p1', 'p11', 'p12', 'p3', 'p6', 'p7', 'p9')\n",
            "('p11', 'p12', 'p2', 'p3', 'p6', 'p7', 'p8')\n",
            "('p1', 'p10', 'p13', 'p14', 'p3', 'p4', 'p5', 'p7')\n",
            "('p1', 'p10', 'p12', 'p13', 'p2', 'p3', 'p7')\n",
            "('p1', 'p10', 'p13', 'p2', 'p5', 'p6', 'p7', 'p8')\n",
            "('p1', 'p10', 'p11', 'p2', 'p3', 'p4', 'p5', 'p6', 'p7')\n",
            "('p12', 'p14', 'p2', 'p4', 'p7', 'p8', 'p9')\n",
            "('p11', 'p13', 'p2', 'p4', 'p5', 'p7', 'p8')\n",
            "('p1', 'p11', 'p14', 'p4', 'p5', 'p6', 'p8', 'p9')\n",
            "('p1', 'p10', 'p11', 'p12', 'p3', 'p5', 'p6')\n",
            "('p10', 'p11', 'p13', 'p2', 'p4', 'p5', 'p8')\n",
            "('p10', 'p11', 'p5', 'p6', 'p7', 'p9')\n",
            "('p1', 'p10', 'p11', 'p14', 'p2', 'p5', 'p6', 'p8')\n",
            "('p11', 'p13', 'p14', 'p2', 'p3', 'p4', 'p7')\n",
            "('p10', 'p11', 'p14', 'p3', 'p4', 'p5', 'p9')\n",
            "('p10', 'p12', 'p5', 'p6', 'p8', 'p9')\n",
            "('p11', 'p13', 'p5', 'p6', 'p8', 'p9')\n",
            "('p13', 'p14', 'p3', 'p5', 'p6', 'p7', 'p9')\n",
            "('p1', 'p11', 'p13', 'p2', 'p6', 'p7', 'p9')\n",
            "('p1', 'p12', 'p2', 'p3', 'p4', 'p7', 'p8', 'p9')\n",
            "('p10', 'p11', 'p2', 'p3', 'p7', 'p8', 'p9')\n",
            "('p1', 'p12', 'p13', 'p14', 'p2', 'p4', 'p9')\n",
            "('p11', 'p13', 'p2', 'p3', 'p6', 'p8', 'p9')\n",
            "('p10', 'p11', 'p14', 'p4', 'p7', 'p9')\n",
            "('p10', 'p12', 'p13', 'p2', 'p7', 'p8')\n",
            "('p1', 'p10', 'p11', 'p13', 'p14', 'p2', 'p6')\n",
            "('p10', 'p13', 'p2', 'p7', 'p8', 'p9')\n",
            "('p10', 'p11', 'p12', 'p14', 'p9')\n",
            "('p1', 'p12', 'p14', 'p2', 'p7', 'p8', 'p9')\n",
            "('p10', 'p13', 'p2', 'p3', 'p6', 'p7', 'p8')\n",
            "('p11', 'p13', 'p3', 'p7', 'p8', 'p9')\n",
            "('p11', 'p12', 'p14', 'p2', 'p3', 'p6', 'p9')\n",
            "('p1', 'p10', 'p12', 'p13', 'p2', 'p3', 'p8')\n",
            "('p1', 'p10', 'p11', 'p2', 'p4', 'p6', 'p8', 'p9')\n",
            "('p10', 'p2', 'p3', 'p5', 'p6', 'p7', 'p8', 'p9')\n",
            "('p1', 'p10', 'p2', 'p5', 'p6', 'p7', 'p8', 'p9')\n",
            "('p10', 'p11', 'p12', 'p2', 'p7', 'p8')\n",
            "('p11', 'p13', 'p14', 'p3', 'p5', 'p6', 'p8')\n",
            "('p1', 'p11', 'p14', 'p2', 'p4', 'p6', 'p7', 'p9')\n",
            "('p12', 'p13', 'p14', 'p2', 'p3', 'p4', 'p8')\n",
            "('p1', 'p11', 'p13', 'p7', 'p8', 'p9')\n",
            "('p11', 'p13', 'p14', 'p2', 'p5', 'p6', 'p7')\n",
            "\n",
            "Total Sets:  61 \n",
            "\n"
          ]
        }
      ],
      "source": [
        "import random as r\n",
        "\n",
        "ProductList = {'p1':10, 'p2':15, 'p3':20, 'p4':25, 'p5':30, 'p6':35, 'p7':50,\n",
        "               'p8':40, 'p9':55, 'p10':60, 'p11':65, 'p12':75, 'p13':70,\n",
        "               'p14':45}\n",
        "LB          = 290\n",
        "UB          = 310\n",
        "Result  = set()   \n",
        "Iterations  = 1000    \n",
        "\n",
        "for i in range(Iterations):\n",
        "    SetSize = r.randint(2, len(ProductList)-1)\n",
        "\n",
        "\n",
        "    ComboList = r.sample(list(ProductList.keys()),SetSize)\n",
        "    ComboList.sort()\n",
        "\n",
        "\n",
        "    ComboSum = sum([ ProductList[i] for i in ComboList])\n",
        "\n",
        "   \n",
        "    if ComboSum>= LB and ComboSum<= UB:\n",
        "      Result.add(tuple(ComboList))\n",
        "\n",
        "\n",
        "\n",
        "for r in Result:\n",
        "\tprint (r)\n",
        "\n",
        "print (\"\\nTotal Sets: \", len(Result), \"\\n\")"
      ]
    }
  ]
}